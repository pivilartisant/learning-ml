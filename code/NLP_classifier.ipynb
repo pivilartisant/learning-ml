{
 "cells": [
  {
   "cell_type": "markdown",
   "id": "9ac7f079",
   "metadata": {},
   "source": [
    "Initialising"
   ]
  },
  {
   "cell_type": "code",
   "execution_count": null,
   "id": "60c0ff75",
   "metadata": {},
   "outputs": [
    {
     "name": "stdout",
     "output_type": "stream",
     "text": [
      "Using device = cpu\n",
      "training_iter 7\n"
     ]
    }
   ],
   "source": [
    "import torch\n",
    "import os\n",
    "import string\n",
    "import unicodedata\n",
    "from io import open\n",
    "import glob\n",
    "import time\n",
    "from torch.utils.data import Dataset\n",
    "import torch.nn as nn\n",
    "import torch.nn.functional as F\n",
    "import random\n",
    "import numpy as np\n",
    "import matplotlib.pyplot as plt\n",
    "import matplotlib.ticker as ticker\n",
    "\n",
    "# Check if CUDA is available\n",
    "device = torch.device('cpu')\n",
    "if torch.cuda.is_available():\n",
    "    device = torch.device('cuda')\n",
    "\n",
    "torch.set_default_device(device)\n",
    "print(f\"Using device = {torch.get_default_device()}\")\n",
    "\n",
    "training_iter = 8\n",
    "dir_name = f\"training_iter_{training_iter}\"\n",
    "full_dir_path = os.path.join(\".\", \"training\", dir_name)\n",
    "\n",
    "# Create the output directory if it doesn't exist\n",
    "os.makedirs(full_dir_path, exist_ok=True)\n",
    "\n",
    "# model hyper params\n",
    "n_hidden = 256\n",
    "n_epoch = 160\n",
    "learning_rate = 0.001\n",
    "n_batch_size = 128\n",
    "\n",
    "print(\"training_iter\", training_iter)"
   ]
  },
  {
   "cell_type": "markdown",
   "id": "60de5b84",
   "metadata": {},
   "source": [
    "Unicode to Ascii Cleaning function"
   ]
  },
  {
   "cell_type": "code",
   "execution_count": 29,
   "id": "4d4897be",
   "metadata": {},
   "outputs": [],
   "source": [
    "# We can use \"_\" to represent an out-of-vocabulary character, that is, any character we are not handling in our model\n",
    "allowed_characters = string.ascii_letters + \" .,;'\" + \"_\"\n",
    "n_letters = len(allowed_characters)\n",
    "\n",
    "# Turn a Unicode string to plain ASCII, thanks to https://stackoverflow.com/a/518232/2809427\n",
    "def unicodeToAscii(s):\n",
    "    return ''.join(\n",
    "        c for c in unicodedata.normalize('NFD', s)\n",
    "        if unicodedata.category(c) != 'Mn'\n",
    "        and c in allowed_characters\n",
    "    )"
   ]
  },
  {
   "cell_type": "markdown",
   "id": "a31f915a",
   "metadata": {},
   "source": [
    "Go from ascii characters to tensor"
   ]
  },
  {
   "cell_type": "code",
   "execution_count": 31,
   "id": "3ca96b4c",
   "metadata": {},
   "outputs": [],
   "source": [
    "# Find letter index from all_letters, e.g. \"a\" = 0\n",
    "def letterToIndex(letter):\n",
    "    # return our out-of-vocabulary character if we encounter a letter unknown to our model\n",
    "    if letter not in allowed_characters:\n",
    "        return allowed_characters.find(\"_\")\n",
    "    else:\n",
    "        return allowed_characters.find(letter)\n",
    "\n",
    "# Turn a line into a <line_length x 1 x n_letters>,\n",
    "# or an array of one-hot letter vectors\n",
    "def lineToTensor(line):\n",
    "    tensor = torch.zeros(len(line), 1, n_letters)\n",
    "    for li, letter in enumerate(line):\n",
    "        tensor[li][0][letterToIndex(letter)] = 1\n",
    "    return tensor\n",
    "\n",
    "# print (f\"The letter 'a' becomes {lineToTensor('a')}\") #notice that the first position in the tensor = 1\n",
    "# print (f\"The name 'Ahn' becomes {lineToTensor('Ahn')}\") #notice 'A' sets the 27th index to 1\n"
   ]
  },
  {
   "cell_type": "markdown",
   "id": "90039988",
   "metadata": {},
   "source": [
    "Defining our model"
   ]
  },
  {
   "cell_type": "code",
   "execution_count": 32,
   "id": "f1135b9d",
   "metadata": {},
   "outputs": [],
   "source": [
    "class NamesDataset(Dataset):\n",
    "\n",
    "    def __init__(self, data_dir):\n",
    "        self.data_dir = data_dir #for provenance of the dataset\n",
    "        self.load_time = time.localtime #for provenance of the dataset\n",
    "        labels_set = set() #set of all classes\n",
    "\n",
    "        self.data = []\n",
    "        self.data_tensors = []\n",
    "        self.labels = []\n",
    "        self.labels_tensors = []\n",
    "\n",
    "        #read all the ``.txt`` files in the specified directory\n",
    "        text_files = glob.glob(os.path.join(data_dir, '*.txt'))\n",
    "        for filename in text_files:\n",
    "            label = os.path.splitext(os.path.basename(filename))[0]\n",
    "            labels_set.add(label)\n",
    "            lines = open(filename, encoding='utf-8').read().strip().split('\\n')\n",
    "            for name in lines:\n",
    "                self.data.append(name)\n",
    "                self.data_tensors.append(lineToTensor(name))\n",
    "                self.labels.append(label)\n",
    "\n",
    "        #Cache the tensor representation of the labels\n",
    "        self.labels_uniq = list(labels_set)\n",
    "        for idx in range(len(self.labels)):\n",
    "            temp_tensor = torch.tensor([self.labels_uniq.index(self.labels[idx])], dtype=torch.long)\n",
    "            self.labels_tensors.append(temp_tensor)\n",
    "\n",
    "    def __len__(self):\n",
    "        return len(self.data)\n",
    "\n",
    "    def __getitem__(self, idx):\n",
    "        data_item = self.data[idx]\n",
    "        data_label = self.labels[idx]\n",
    "        data_tensor = self.data_tensors[idx]\n",
    "        label_tensor = self.labels_tensors[idx]\n",
    "\n",
    "        return label_tensor, data_tensor, data_label, data_item"
   ]
  },
  {
   "cell_type": "markdown",
   "id": "523cb9d2",
   "metadata": {},
   "source": [
    "Retrieving all data from /data/names"
   ]
  },
  {
   "cell_type": "code",
   "execution_count": 33,
   "id": "2c712090",
   "metadata": {},
   "outputs": [],
   "source": [
    "alldata = NamesDataset(\"data/names\")\n",
    "# print(f\"loaded {len(alldata)} items of data\")\n",
    "# print(f\"example = {alldata[0]}\")"
   ]
  },
  {
   "cell_type": "markdown",
   "id": "a39bcbfc",
   "metadata": {},
   "source": [
    "split the data into train and test sets. Here we create a 80/20. For training and then validation."
   ]
  },
  {
   "cell_type": "code",
   "execution_count": 34,
   "id": "84f02b87",
   "metadata": {},
   "outputs": [],
   "source": [
    "train_set, test_set = torch.utils.data.random_split(alldata, [.80, .20], generator=torch.Generator(device=device).manual_seed(2024))\n",
    "\n",
    "# print(f\"train examples = {len(train_set)}, validation examples = {len(test_set)}\")\n"
   ]
  },
  {
   "cell_type": "markdown",
   "id": "fca304b4",
   "metadata": {},
   "source": [
    "Creating the network"
   ]
  },
  {
   "cell_type": "code",
   "execution_count": 35,
   "id": "593a5be5",
   "metadata": {},
   "outputs": [],
   "source": [
    "class CharRNN(nn.Module):\n",
    "    def __init__(self, input_size, hidden_size, output_size):\n",
    "        super(CharRNN, self).__init__()\n",
    "\n",
    "        self.rnn = nn.RNN(input_size, hidden_size)\n",
    "        self.h2o = nn.Linear(hidden_size, output_size)\n",
    "        self.softmax = nn.LogSoftmax(dim=1)\n",
    "\n",
    "    def forward(self, line_tensor):\n",
    "        _, hidden = self.rnn(line_tensor)\n",
    "        output = self.h2o(hidden[0])\n",
    "        output = self.softmax(output)\n",
    "\n",
    "        return output"
   ]
  },
  {
   "cell_type": "code",
   "execution_count": 100,
   "id": "e4e76cc5",
   "metadata": {},
   "outputs": [
    {
     "name": "stdout",
     "output_type": "stream",
     "text": [
      "CharRNN(\n",
      "  (rnn): RNN(58, 256)\n",
      "  (h2o): Linear(in_features=256, out_features=18, bias=True)\n",
      "  (softmax): LogSoftmax(dim=1)\n",
      ")\n"
     ]
    }
   ],
   "source": [
    "\n",
    "rnn = CharRNN(n_letters, n_hidden, len(alldata.labels_uniq))\n",
    "print(rnn)"
   ]
  },
  {
   "cell_type": "markdown",
   "id": "bf7f3933",
   "metadata": {},
   "source": [
    "create label output"
   ]
  },
  {
   "cell_type": "code",
   "execution_count": 46,
   "id": "421f001c",
   "metadata": {},
   "outputs": [],
   "source": [
    "def label_from_output(output, output_labels):\n",
    "    _, top_i = output.topk(1)\n",
    "    label_i = top_i[0].item()\n",
    "    return output_labels[label_i], label_i\n",
    "\n",
    "# input = lineToTensor('Albert')\n",
    "# output = rnn(input) #this is equivalent to ``output = rnn.forward(input)``\n",
    "# print(output)\n",
    "# print(label_from_output(output, alldata.labels_uniq))"
   ]
  },
  {
   "cell_type": "code",
   "execution_count": 98,
   "id": "50ecd91b",
   "metadata": {},
   "outputs": [],
   "source": [
    "def train(rnn, training_data, n_epoch = 10, n_batch_size = 64, report_every = 50, learning_rate = 0.2, criterion = nn.NLLLoss()):\n",
    "    \"\"\"\n",
    "    Learn on a batch of training_data for a specified number of iterations and reporting thresholds\n",
    "    \"\"\"\n",
    "    # Keep track of losses for plotting\n",
    "    current_loss = 0\n",
    "    all_losses = []\n",
    "    rnn.train()\n",
    "    optimizer = torch.optim.SGD(rnn.parameters(), lr=learning_rate)\n",
    "\n",
    "    start = time.time()\n",
    "    print(f\"training on data set with n = {len(training_data)}\")\n",
    "\n",
    "    for iter in range(1, n_epoch + 1):\n",
    "        rnn.zero_grad() # clear the gradients\n",
    "\n",
    "        # create some minibatches\n",
    "        # we cannot use dataloaders because each of our names is a different length\n",
    "        batches = list(range(len(training_data)))\n",
    "        random.shuffle(batches)\n",
    "        batches = np.array_split(batches, len(batches) //n_batch_size )\n",
    "\n",
    "        for _, batch in enumerate(batches):\n",
    "            batch_loss = 0\n",
    "            for i in batch: #for each example in this batch\n",
    "                (label_tensor, text_tensor, label, text) = training_data[i]\n",
    "                output = rnn.forward(text_tensor)\n",
    "                loss = criterion(output, label_tensor)\n",
    "                batch_loss += loss\n",
    "\n",
    "            # optimize parameters\n",
    "            batch_loss.backward()\n",
    "            nn.utils.clip_grad_norm_(rnn.parameters(), 3)\n",
    "            optimizer.step()\n",
    "            optimizer.zero_grad()\n",
    "\n",
    "            current_loss += batch_loss.item() / len(batch)\n",
    "\n",
    "        all_losses.append(current_loss / len(batches) )\n",
    "        if iter % report_every == 0:\n",
    "            print(f\"{iter} ({iter / n_epoch:.0%}): \\t average batch loss = {all_losses[-1]}\")\n",
    "        current_loss = 0\n",
    "\n",
    "    return all_losses"
   ]
  },
  {
   "cell_type": "code",
   "execution_count": 101,
   "id": "6557e824",
   "metadata": {},
   "outputs": [
    {
     "name": "stdout",
     "output_type": "stream",
     "text": [
      "training on data set with n = 16060\n",
      "5 (6%): \t average batch loss = 1.7775371402548268\n",
      "10 (12%): \t average batch loss = 1.6713342983925992\n",
      "15 (19%): \t average batch loss = 1.6027051208777021\n",
      "20 (25%): \t average batch loss = 1.5383698356835416\n",
      "25 (31%): \t average batch loss = 1.4787153054762256\n",
      "30 (38%): \t average batch loss = 1.435463874972144\n",
      "35 (44%): \t average batch loss = 1.4029926854510641\n",
      "40 (50%): \t average batch loss = 1.375472374967826\n",
      "45 (56%): \t average batch loss = 1.351959943919219\n",
      "50 (62%): \t average batch loss = 1.3287690991098566\n",
      "55 (69%): \t average batch loss = 1.3058317611051162\n",
      "60 (75%): \t average batch loss = 1.2847046899795531\n",
      "65 (81%): \t average batch loss = 1.2644775780374689\n",
      "70 (88%): \t average batch loss = 1.2464706401861918\n",
      "75 (94%): \t average batch loss = 1.2294974497491997\n",
      "80 (100%): \t average batch loss = 1.2138409614562988\n",
      "training took 1568.8106360435486s\n"
     ]
    }
   ],
   "source": [
    "start = time.time()\n",
    "all_losses = train(\n",
    "    rnn,\n",
    "    train_set,\n",
    "    n_epoch=n_epoch,\n",
    "    n_batch_size=n_batch_size,\n",
    "    learning_rate=learning_rate,\n",
    "    report_every=5\n",
    ")\n",
    "end = time.time()\n",
    "print(f\"training took {end-start}s\")\n"
   ]
  },
  {
   "cell_type": "code",
   "execution_count": 102,
   "id": "d417b084",
   "metadata": {},
   "outputs": [
    {
     "name": "stderr",
     "output_type": "stream",
     "text": [
      "/var/folders/m0/v8ljs5kn4_b_sdgwg02jnv6c0000gn/T/ipykernel_68242/1608073774.py:32: UserWarning: FigureCanvasAgg is non-interactive, and thus cannot be shown\n",
      "  fig.show()\n"
     ]
    },
    {
     "data": {
      "image/png": "[encoded data removed]",
      "text/plain": [
       "<Figure size 640x480 with 2 Axes>"
      ]
     },
     "metadata": {},
     "output_type": "display_data"
    }
   ],
   "source": [
    "def evaluate(rnn, testing_data, classes):\n",
    "    confusion = torch.zeros(len(classes), len(classes))\n",
    "\n",
    "    rnn.eval() #set to eval mode\n",
    "    with torch.no_grad(): # do not record the gradients during eval phase\n",
    "        for i in range(len(testing_data)):\n",
    "            (_, text_tensor, label, text) = testing_data[i]\n",
    "            output = rnn(text_tensor)\n",
    "            _, guess_i = label_from_output(output, classes)\n",
    "            label_i = classes.index(label)\n",
    "            confusion[label_i][guess_i] += 1\n",
    "\n",
    "    # Normalize by dividing every row by its sum\n",
    "    for i in range(len(classes)):\n",
    "        denom = confusion[i].sum()\n",
    "        if denom > 0:\n",
    "            confusion[i] = confusion[i] / denom\n",
    "\n",
    "    # Set up plot\n",
    "    fig = plt.figure()\n",
    "    ax = fig.add_subplot(111)\n",
    "    cax = ax.matshow(confusion.cpu().numpy()) #numpy uses cpu here so we need to use a cpu version\n",
    "    fig.colorbar(cax)\n",
    "\n",
    "    # Set up axes\n",
    "    ax.set_xticks(np.arange(len(classes)), labels=classes, rotation=90)\n",
    "    ax.set_yticks(np.arange(len(classes)), labels=classes)\n",
    "\n",
    "    # Force label at every tick\n",
    "    ax.xaxis.set_major_locator(ticker.MultipleLocator(1))\n",
    "    ax.yaxis.set_major_locator(ticker.MultipleLocator(1))\n",
    "    fig.show()\n",
    "    # sphinx_gallery_thumbnail_number = 2\n",
    "    return fig\n",
    "    \n",
    "\n",
    "\n",
    "confusion = evaluate(rnn, test_set, classes=alldata.labels_uniq)\n"
   ]
  },
  {
   "cell_type": "markdown",
   "id": "5014efd2",
   "metadata": {},
   "source": [
    "bright spots off the main axis that show which languages it guesses incorrectly."
   ]
  },
  {
   "cell_type": "code",
   "execution_count": 103,
   "id": "22c6d2a1",
   "metadata": {},
   "outputs": [
    {
     "name": "stdout",
     "output_type": "stream",
     "text": [
      "rnn architecture:\n",
      "CharRNN(\n",
      "  (rnn): RNN(58, 256)\n",
      "  (h2o): Linear(in_features=256, out_features=18, bias=True)\n",
      "  (softmax): LogSoftmax(dim=1)\n",
      ")\n",
      "\n",
      "n_hidden = 256\n",
      "\n",
      "n_epoch = 80\n",
      "\n",
      "learning_rate = 0.001\n",
      "\n",
      "train examples = 16060, validation examples = 4014\n",
      "\n"
     ]
    },
    {
     "data": {
      "image/png": "[encoded data removed]",
      "text/plain": [
       "<Figure size 640x480 with 1 Axes>"
      ]
     },
     "metadata": {},
     "output_type": "display_data"
    },
    {
     "name": "stdout",
     "output_type": "stream",
     "text": [
      "training took 1568.8106360435486s\n",
      "\n"
     ]
    }
   ],
   "source": [
    "# save all training data \n",
    "\n",
    "# Save model info and hyper params\n",
    "with open(f\"{full_dir_path}/rnn_info_{training_iter}.txt\", \"w\") as f:\n",
    "    f.write(f\"n_hidden = {n_hidden}\\n\")\n",
    "    f.write(f\"rnn architecture:\\n{rnn}\\n\")\n",
    "    f.write(f\"n_epoch = {n_epoch}\\n\")\n",
    "    f.write(f\"learning_rate = {learning_rate}\\n\")\n",
    "    f.write(f\"n_batch_size = {n_batch_size}\\n\")\n",
    "print(f\"rnn architecture:\\n{rnn}\\n\")\n",
    "print(f\"n_hidden = {n_hidden}\\n\")\n",
    "print(f\"n_epoch = {n_epoch}\\n\")\n",
    "print(f\"learning_rate = {learning_rate}\\n\")\n",
    "\n",
    "\n",
    "\n",
    "# Save model info to a text file\n",
    "with open(f\"{full_dir_path}/training_validation_ratio_{training_iter}.txt\", \"w\") as f:\n",
    "    f.write(f\"train examples = {len(train_set)}, validation examples = {len(test_set)}\")\n",
    "\n",
    "print(f\"train examples = {len(train_set)}, validation examples = {len(test_set)}\\n\")\n",
    "\n",
    "# plot losses\n",
    "plt.figure()\n",
    "plt.plot(all_losses)\n",
    "plt.title(\"Training Loss\")\n",
    "plt.xlabel(\"Iterations\")\n",
    "plt.ylabel(\"Loss\")\n",
    "plt.grid(True)\n",
    "plt.savefig(f\"{full_dir_path}/training_loss_entropy_{training_iter}.png\")\n",
    "plt.show()\n",
    "\n",
    "\n",
    "# Save training time\n",
    "with open(f\"{full_dir_path}/training_time_{training_iter}.txt\", \"w\") as f:\n",
    "    f.write(f\"training took {end-start}s\")\n",
    "print(f\"training took {end-start}s\\n\")\n",
    "\n",
    "# save confusion \n",
    "confusion.savefig(f\"{full_dir_path}/confusion_matrix_{training_iter}.png\")\n",
    "\n",
    "training_iter+=1 \n",
    "\n"
   ]
  }
 ],
 "metadata": {
  "kernelspec": {
   "display_name": "pytorch",
   "language": "python",
   "name": "python3"
  },
  "language_info": {
   "codemirror_mode": {
    "name": "ipython",
    "version": 3
   },
   "file_extension": ".py",
   "mimetype": "text/x-python",
   "name": "python",
   "nbconvert_exporter": "python",
   "pygments_lexer": "ipython3",
   "version": "3.10.18"
  }
 },
 "nbformat": 4,
 "nbformat_minor": 5
}
